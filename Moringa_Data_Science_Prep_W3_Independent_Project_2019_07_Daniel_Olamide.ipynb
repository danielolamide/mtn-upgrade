{
  "nbformat": 4,
  "nbformat_minor": 0,
  "metadata": {
    "colab": {
      "name": "Moringa_Data_Science_Prep_W3_Independent_Project_2019_07_Daniel_Olamide.ipynb",
      "provenance": []
    },
    "kernelspec": {
      "name": "python3",
      "display_name": "Python 3"
    },
    "language_info": {
      "name": "python"
    }
  },
  "cells": [
    {
      "cell_type": "code",
      "metadata": {
        "id": "jPWcrDw1ll2y"
      },
      "source": [
        "import pandas as pd"
      ],
      "execution_count": 1,
      "outputs": []
    },
    {
      "cell_type": "code",
      "metadata": {
        "colab": {
          "base_uri": "https://localhost:8080/",
          "height": 694
        },
        "id": "lp85VMHQHi8q",
        "outputId": "19f0aa6b-0959-4b7a-a670-8222d30bd078"
      },
      "source": [
        "#Create DataFrame Cells_Geo.csv\n",
        "cells_geo = pd.read_csv(\"cells_geo.csv\", delimiter=\";\")\n",
        "cells_geo.drop(\"Unnamed: 0\", axis=1, inplace=True)\n",
        "cells_geo.drop_duplicates(inplace=True)\n",
        "cells_geo"
      ],
      "execution_count": 6,
      "outputs": [
        {
          "output_type": "execute_result",
          "data": {
            "text/html": [
              "<div>\n",
              "<style scoped>\n",
              "    .dataframe tbody tr th:only-of-type {\n",
              "        vertical-align: middle;\n",
              "    }\n",
              "\n",
              "    .dataframe tbody tr th {\n",
              "        vertical-align: top;\n",
              "    }\n",
              "\n",
              "    .dataframe thead th {\n",
              "        text-align: right;\n",
              "    }\n",
              "</style>\n",
              "<table border=\"1\" class=\"dataframe\">\n",
              "  <thead>\n",
              "    <tr style=\"text-align: right;\">\n",
              "      <th></th>\n",
              "      <th>VILLES</th>\n",
              "      <th>STATUS</th>\n",
              "      <th>LOCALISATION</th>\n",
              "      <th>DECOUPZONE</th>\n",
              "      <th>ZONENAME</th>\n",
              "      <th>LONGITUDE</th>\n",
              "      <th>LATITUDE</th>\n",
              "      <th>REGION</th>\n",
              "      <th>AREA</th>\n",
              "      <th>CELL_ID</th>\n",
              "      <th>SITE_CODE</th>\n",
              "    </tr>\n",
              "  </thead>\n",
              "  <tbody>\n",
              "    <tr>\n",
              "      <th>0</th>\n",
              "      <td>ADJAME</td>\n",
              "      <td>In Service</td>\n",
              "      <td>ABIDJAN</td>\n",
              "      <td>\"Abidjan_EST</td>\n",
              "      <td>AGBANNEW</td>\n",
              "      <td>-4.000667</td>\n",
              "      <td>5.368194</td>\n",
              "      <td>LAGUNE</td>\n",
              "      <td>NaN</td>\n",
              "      <td>fbb2e75af3</td>\n",
              "      <td>0bb492ef17</td>\n",
              "    </tr>\n",
              "    <tr>\n",
              "      <th>1</th>\n",
              "      <td>ADJAME</td>\n",
              "      <td>In Service</td>\n",
              "      <td>ABIDJAN</td>\n",
              "      <td>\"Abidjan_EST</td>\n",
              "      <td>AGBANNEW</td>\n",
              "      <td>-4.000667</td>\n",
              "      <td>5.368194</td>\n",
              "      <td>LAGUNE</td>\n",
              "      <td>NaN</td>\n",
              "      <td>1502501d78</td>\n",
              "      <td>0bb492ef17</td>\n",
              "    </tr>\n",
              "    <tr>\n",
              "      <th>2</th>\n",
              "      <td>ADJAME</td>\n",
              "      <td>In Service</td>\n",
              "      <td>ABIDJAN</td>\n",
              "      <td>\"Abidjan_EST</td>\n",
              "      <td>AGBANNEW</td>\n",
              "      <td>-4.000667</td>\n",
              "      <td>5.368194</td>\n",
              "      <td>LAGUNE</td>\n",
              "      <td>NaN</td>\n",
              "      <td>0c2e182a0c</td>\n",
              "      <td>0bb492ef17</td>\n",
              "    </tr>\n",
              "    <tr>\n",
              "      <th>3</th>\n",
              "      <td>ASSINIE</td>\n",
              "      <td>In Service</td>\n",
              "      <td>INTERIEUR</td>\n",
              "      <td>Grand-EST</td>\n",
              "      <td>ASSINIE\"</td>\n",
              "      <td>-3.488467</td>\n",
              "      <td>5.158761</td>\n",
              "      <td>SUD COMOE</td>\n",
              "      <td>NaN</td>\n",
              "      <td>69bdfc69fd</td>\n",
              "      <td>8a1e6ce31f</td>\n",
              "    </tr>\n",
              "    <tr>\n",
              "      <th>4</th>\n",
              "      <td>ASSINIE</td>\n",
              "      <td>In Service</td>\n",
              "      <td>INTERIEUR</td>\n",
              "      <td>Grand-EST</td>\n",
              "      <td>ASSINIE\"</td>\n",
              "      <td>-3.488467</td>\n",
              "      <td>5.158761</td>\n",
              "      <td>SUD COMOE</td>\n",
              "      <td>NaN</td>\n",
              "      <td>7a1029d2ab</td>\n",
              "      <td>8a1e6ce31f</td>\n",
              "    </tr>\n",
              "    <tr>\n",
              "      <th>...</th>\n",
              "      <td>...</td>\n",
              "      <td>...</td>\n",
              "      <td>...</td>\n",
              "      <td>...</td>\n",
              "      <td>...</td>\n",
              "      <td>...</td>\n",
              "      <td>...</td>\n",
              "      <td>...</td>\n",
              "      <td>...</td>\n",
              "      <td>...</td>\n",
              "      <td>...</td>\n",
              "    </tr>\n",
              "    <tr>\n",
              "      <th>3969</th>\n",
              "      <td>ZUENOULA</td>\n",
              "      <td>In Service</td>\n",
              "      <td>INTERIEUR</td>\n",
              "      <td>Grand-NORD</td>\n",
              "      <td>ZONE A - Grand-NORD</td>\n",
              "      <td>-6.039694</td>\n",
              "      <td>7.428611</td>\n",
              "      <td>MARAHOUE</td>\n",
              "      <td>CENTRE NORTH</td>\n",
              "      <td>1cfc2d7ab1</td>\n",
              "      <td>f91ed8d2e9</td>\n",
              "    </tr>\n",
              "    <tr>\n",
              "      <th>3970</th>\n",
              "      <td>ZUENOULA</td>\n",
              "      <td>In Service</td>\n",
              "      <td>INTERIEUR</td>\n",
              "      <td>Grand-NORD</td>\n",
              "      <td>ZONE A - Grand-NORD</td>\n",
              "      <td>-6.039694</td>\n",
              "      <td>7.428611</td>\n",
              "      <td>MARAHOUE</td>\n",
              "      <td>CENTRE NORTH</td>\n",
              "      <td>3ae1708153</td>\n",
              "      <td>f91ed8d2e9</td>\n",
              "    </tr>\n",
              "    <tr>\n",
              "      <th>3971</th>\n",
              "      <td>ZUENOULA</td>\n",
              "      <td>In Service</td>\n",
              "      <td>INTERIEUR</td>\n",
              "      <td>Grand-NORD</td>\n",
              "      <td>ZONE A - Grand-NORD</td>\n",
              "      <td>-6.065450</td>\n",
              "      <td>7.444592</td>\n",
              "      <td>MARAHOUE</td>\n",
              "      <td>CENTRE NORTH</td>\n",
              "      <td>cb71f8a29c</td>\n",
              "      <td>61bee9c70c</td>\n",
              "    </tr>\n",
              "    <tr>\n",
              "      <th>3972</th>\n",
              "      <td>ZUENOULA</td>\n",
              "      <td>In Service</td>\n",
              "      <td>INTERIEUR</td>\n",
              "      <td>Grand-NORD</td>\n",
              "      <td>ZONE A - Grand-NORD</td>\n",
              "      <td>-6.065450</td>\n",
              "      <td>7.444592</td>\n",
              "      <td>MARAHOUE</td>\n",
              "      <td>CENTRE NORTH</td>\n",
              "      <td>d4a6a0b645</td>\n",
              "      <td>61bee9c70c</td>\n",
              "    </tr>\n",
              "    <tr>\n",
              "      <th>3973</th>\n",
              "      <td>ZUENOULA</td>\n",
              "      <td>In Service</td>\n",
              "      <td>INTERIEUR</td>\n",
              "      <td>Grand-NORD</td>\n",
              "      <td>ZONE A - Grand-NORD</td>\n",
              "      <td>-6.065450</td>\n",
              "      <td>7.444592</td>\n",
              "      <td>MARAHOUE</td>\n",
              "      <td>CENTRE NORTH</td>\n",
              "      <td>f9f3e42589</td>\n",
              "      <td>61bee9c70c</td>\n",
              "    </tr>\n",
              "  </tbody>\n",
              "</table>\n",
              "<p>3931 rows × 11 columns</p>\n",
              "</div>"
            ],
            "text/plain": [
              "        VILLES      STATUS LOCALISATION  ...          AREA     CELL_ID   SITE_CODE\n",
              "0       ADJAME  In Service      ABIDJAN  ...           NaN  fbb2e75af3  0bb492ef17\n",
              "1       ADJAME  In Service      ABIDJAN  ...           NaN  1502501d78  0bb492ef17\n",
              "2       ADJAME  In Service      ABIDJAN  ...           NaN  0c2e182a0c  0bb492ef17\n",
              "3      ASSINIE  In Service    INTERIEUR  ...           NaN  69bdfc69fd  8a1e6ce31f\n",
              "4      ASSINIE  In Service    INTERIEUR  ...           NaN  7a1029d2ab  8a1e6ce31f\n",
              "...        ...         ...          ...  ...           ...         ...         ...\n",
              "3969  ZUENOULA  In Service    INTERIEUR  ...  CENTRE NORTH  1cfc2d7ab1  f91ed8d2e9\n",
              "3970  ZUENOULA  In Service    INTERIEUR  ...  CENTRE NORTH  3ae1708153  f91ed8d2e9\n",
              "3971  ZUENOULA  In Service    INTERIEUR  ...  CENTRE NORTH  cb71f8a29c  61bee9c70c\n",
              "3972  ZUENOULA  In Service    INTERIEUR  ...  CENTRE NORTH  d4a6a0b645  61bee9c70c\n",
              "3973  ZUENOULA  In Service    INTERIEUR  ...  CENTRE NORTH  f9f3e42589  61bee9c70c\n",
              "\n",
              "[3931 rows x 11 columns]"
            ]
          },
          "metadata": {
            "tags": []
          },
          "execution_count": 6
        }
      ]
    },
    {
      "cell_type": "code",
      "metadata": {
        "colab": {
          "base_uri": "https://localhost:8080/",
          "height": 609
        },
        "id": "HkOK-GQ6LdnX",
        "outputId": "24b59c31-865e-4be7-a2a1-57cf7f601aee"
      },
      "source": [
        "#Create Telcom DataFrame & Drop Duplicates\n",
        "telcom_1 = pd.read_csv(\"Telcom_dataset.csv\")\n",
        "telcom_2 = pd.read_csv(\"Telcom_dataset2.csv\")\n",
        "telcom_3 = pd.read_csv(\"Telcom_dataset3.csv\")\n",
        "\n",
        "#Confirm if duplicates exist\n",
        "#telcom_1.duplicated().value_counts()\n",
        "\n",
        "telcom_1.drop_duplicates(inplace=True)\n",
        "telcom_2.drop_duplicates(inplace=True)\n",
        "telcom_3.drop_duplicates(inplace=True)\n",
        "\n",
        "telcoms = pd.concat([telcom_1, telcom_2, telcom_3])\n",
        "#Remove useless columns\n",
        "telcoms.drop(['CELL_ON_SITE','COUNTRY_A','COUNTRY_B'], axis=1, inplace=True)\n",
        "telcoms"
      ],
      "execution_count": 8,
      "outputs": [
        {
          "output_type": "execute_result",
          "data": {
            "text/html": [
              "<div>\n",
              "<style scoped>\n",
              "    .dataframe tbody tr th:only-of-type {\n",
              "        vertical-align: middle;\n",
              "    }\n",
              "\n",
              "    .dataframe tbody tr th {\n",
              "        vertical-align: top;\n",
              "    }\n",
              "\n",
              "    .dataframe thead th {\n",
              "        text-align: right;\n",
              "    }\n",
              "</style>\n",
              "<table border=\"1\" class=\"dataframe\">\n",
              "  <thead>\n",
              "    <tr style=\"text-align: right;\">\n",
              "      <th></th>\n",
              "      <th>PRODUCT</th>\n",
              "      <th>VALUE</th>\n",
              "      <th>DATE_TIME</th>\n",
              "      <th>DW_A_NUMBER_INT</th>\n",
              "      <th>DW_B_NUMBER_INT</th>\n",
              "      <th>CELL_ID</th>\n",
              "      <th>SITE_ID</th>\n",
              "    </tr>\n",
              "  </thead>\n",
              "  <tbody>\n",
              "    <tr>\n",
              "      <th>0</th>\n",
              "      <td>Voice</td>\n",
              "      <td>0</td>\n",
              "      <td>2012-05-06 23:04:37.0</td>\n",
              "      <td>49fae048b547780</td>\n",
              "      <td>1a49f8b0ded9de6</td>\n",
              "      <td>/TJNe+Mmtu</td>\n",
              "      <td>/TJNe+Mmtu</td>\n",
              "    </tr>\n",
              "    <tr>\n",
              "      <th>1</th>\n",
              "      <td>sms</td>\n",
              "      <td>0</td>\n",
              "      <td>2012-05-06 23:05:25.0</td>\n",
              "      <td>7a54a6eaee19e65</td>\n",
              "      <td>93343ba6e41af95</td>\n",
              "      <td>/+cKZKIp41</td>\n",
              "      <td>/+cKZKIp41</td>\n",
              "    </tr>\n",
              "    <tr>\n",
              "      <th>2</th>\n",
              "      <td>sms</td>\n",
              "      <td>25</td>\n",
              "      <td>2012-05-06 23:05:41.0</td>\n",
              "      <td>6008887b0207d82</td>\n",
              "      <td>7aacc9709ce0a20</td>\n",
              "      <td>/u0FSD+ahi</td>\n",
              "      <td>/u0FSD+ahi</td>\n",
              "    </tr>\n",
              "    <tr>\n",
              "      <th>3</th>\n",
              "      <td>Voice</td>\n",
              "      <td>56</td>\n",
              "      <td>2012-05-06 23:05:42.0</td>\n",
              "      <td>7370032e20f4e96</td>\n",
              "      <td>6af4a60e74c91d3</td>\n",
              "      <td>+cNeJzsTp3</td>\n",
              "      <td>+cNeJzsTp3</td>\n",
              "    </tr>\n",
              "    <tr>\n",
              "      <th>4</th>\n",
              "      <td>Voice</td>\n",
              "      <td>14</td>\n",
              "      <td>2012-05-06 23:06:29.0</td>\n",
              "      <td>966ba4656e38e62</td>\n",
              "      <td>02aa736ee555d5c</td>\n",
              "      <td>051KhYDCpv</td>\n",
              "      <td>051KhYDCpv</td>\n",
              "    </tr>\n",
              "    <tr>\n",
              "      <th>...</th>\n",
              "      <td>...</td>\n",
              "      <td>...</td>\n",
              "      <td>...</td>\n",
              "      <td>...</td>\n",
              "      <td>...</td>\n",
              "      <td>...</td>\n",
              "      <td>...</td>\n",
              "    </tr>\n",
              "    <tr>\n",
              "      <th>4995</th>\n",
              "      <td>Voice</td>\n",
              "      <td>10</td>\n",
              "      <td>2012-05-09 00:01:43.0</td>\n",
              "      <td>2f834987f0c1825</td>\n",
              "      <td>accc8e5c1164343</td>\n",
              "      <td>6467daa1db</td>\n",
              "      <td>8a96bae9c1</td>\n",
              "    </tr>\n",
              "    <tr>\n",
              "      <th>4996</th>\n",
              "      <td>Voice</td>\n",
              "      <td>0</td>\n",
              "      <td>2012-05-09 00:01:43.0</td>\n",
              "      <td>467333ade2b4b9c</td>\n",
              "      <td>0ab2acd804d01fe</td>\n",
              "      <td>2aa04dcab7</td>\n",
              "      <td>f7d63a29e5</td>\n",
              "    </tr>\n",
              "    <tr>\n",
              "      <th>4997</th>\n",
              "      <td>Voice</td>\n",
              "      <td>62</td>\n",
              "      <td>2012-05-09 00:01:43.0</td>\n",
              "      <td>e077a6b74c5053c</td>\n",
              "      <td>4c8098eb6ea1a41</td>\n",
              "      <td>7f1f2f889f</td>\n",
              "      <td>b4ddb9e93c</td>\n",
              "    </tr>\n",
              "    <tr>\n",
              "      <th>4999</th>\n",
              "      <td>Voice</td>\n",
              "      <td>30</td>\n",
              "      <td>2012-05-09 00:01:43.0</td>\n",
              "      <td>672ce74c418aa7a</td>\n",
              "      <td>f9ff5af59cf0d68</td>\n",
              "      <td>98ed726da2</td>\n",
              "      <td>b4130b54ab</td>\n",
              "    </tr>\n",
              "    <tr>\n",
              "      <th>5000</th>\n",
              "      <td>Voice</td>\n",
              "      <td>60</td>\n",
              "      <td>2012-05-09 00:01:43.0</td>\n",
              "      <td>6edeb4c55714650</td>\n",
              "      <td>7e60838216482a7</td>\n",
              "      <td>1c11a2fcbb</td>\n",
              "      <td>6d70dae094</td>\n",
              "    </tr>\n",
              "  </tbody>\n",
              "</table>\n",
              "<p>14750 rows × 7 columns</p>\n",
              "</div>"
            ],
            "text/plain": [
              "     PRODUCT  VALUE  ...     CELL_ID     SITE_ID\n",
              "0      Voice      0  ...  /TJNe+Mmtu  /TJNe+Mmtu\n",
              "1        sms      0  ...  /+cKZKIp41  /+cKZKIp41\n",
              "2        sms     25  ...  /u0FSD+ahi  /u0FSD+ahi\n",
              "3      Voice     56  ...  +cNeJzsTp3  +cNeJzsTp3\n",
              "4      Voice     14  ...  051KhYDCpv  051KhYDCpv\n",
              "...      ...    ...  ...         ...         ...\n",
              "4995   Voice     10  ...  6467daa1db  8a96bae9c1\n",
              "4996   Voice      0  ...  2aa04dcab7  f7d63a29e5\n",
              "4997   Voice     62  ...  7f1f2f889f  b4ddb9e93c\n",
              "4999   Voice     30  ...  98ed726da2  b4130b54ab\n",
              "5000   Voice     60  ...  1c11a2fcbb  6d70dae094\n",
              "\n",
              "[14750 rows x 7 columns]"
            ]
          },
          "metadata": {
            "tags": []
          },
          "execution_count": 8
        }
      ]
    },
    {
      "cell_type": "code",
      "metadata": {
        "colab": {
          "base_uri": "https://localhost:8080/"
        },
        "id": "nm8r8FW4NU3p",
        "outputId": "dc16649c-2d3b-4e77-836b-47e01849b398"
      },
      "source": [
        "#Merge Telcoms, Cells_Geo\n",
        "merged_telcom = pd.merge(telcoms, cells_geo, left_on=\"SITE_ID\", right_on=\"SITE_CODE\")\n",
        "merged_telcom.isnull().sum()"
      ],
      "execution_count": 9,
      "outputs": [
        {
          "output_type": "execute_result",
          "data": {
            "text/plain": [
              "PRODUCT              0\n",
              "VALUE                0\n",
              "DATE_TIME            0\n",
              "DW_A_NUMBER_INT      0\n",
              "DW_B_NUMBER_INT      0\n",
              "CELL_ID_x            0\n",
              "SITE_ID              0\n",
              "VILLES               0\n",
              "STATUS             677\n",
              "LOCALISATION         0\n",
              "DECOUPZONE           0\n",
              "ZONENAME            18\n",
              "LONGITUDE            0\n",
              "LATITUDE             0\n",
              "REGION               0\n",
              "AREA               256\n",
              "CELL_ID_y            0\n",
              "SITE_CODE            0\n",
              "dtype: int64"
            ]
          },
          "metadata": {
            "tags": []
          },
          "execution_count": 9
        }
      ]
    },
    {
      "cell_type": "code",
      "metadata": {
        "colab": {
          "base_uri": "https://localhost:8080/"
        },
        "id": "jbNVfc0Abwiz",
        "outputId": "a2f9da68-c1bc-46ed-eaaf-c3683e986bfe"
      },
      "source": [
        "merged_telcom.info()"
      ],
      "execution_count": 10,
      "outputs": [
        {
          "output_type": "stream",
          "text": [
            "<class 'pandas.core.frame.DataFrame'>\n",
            "Int64Index: 49702 entries, 0 to 49701\n",
            "Data columns (total 18 columns):\n",
            " #   Column           Non-Null Count  Dtype  \n",
            "---  ------           --------------  -----  \n",
            " 0   PRODUCT          49702 non-null  object \n",
            " 1   VALUE            49702 non-null  int64  \n",
            " 2   DATE_TIME        49702 non-null  object \n",
            " 3   DW_A_NUMBER_INT  49702 non-null  object \n",
            " 4   DW_B_NUMBER_INT  49702 non-null  object \n",
            " 5   CELL_ID_x        49702 non-null  object \n",
            " 6   SITE_ID          49702 non-null  object \n",
            " 7   VILLES           49702 non-null  object \n",
            " 8   STATUS           49025 non-null  object \n",
            " 9   LOCALISATION     49702 non-null  object \n",
            " 10  DECOUPZONE       49702 non-null  object \n",
            " 11  ZONENAME         49684 non-null  object \n",
            " 12  LONGITUDE        49702 non-null  float64\n",
            " 13  LATITUDE         49702 non-null  float64\n",
            " 14  REGION           49702 non-null  object \n",
            " 15  AREA             49446 non-null  object \n",
            " 16  CELL_ID_y        49702 non-null  object \n",
            " 17  SITE_CODE        49702 non-null  object \n",
            "dtypes: float64(2), int64(1), object(15)\n",
            "memory usage: 7.2+ MB\n"
          ],
          "name": "stdout"
        }
      ]
    },
    {
      "cell_type": "code",
      "metadata": {
        "id": "OzrE3QT0cUoX"
      },
      "source": [
        "# Usage per zone\n",
        "merged_telcom[\"ZONENAME\"].value_counts()\n",
        "active_zones = ['ZONE C - Abidjan_OUEST','ZONE E - Abidjan_NORD','ZONE B - Grand-SUD','ZONE B - Abidjan_EST',\n",
        "                      'ZONE D - Abidjan_SUD','ZONE D - Grand-OUEST','ZONE A - Abidjan_CENTRE','ZONE A - Grand-NORD',\n",
        "                      'ZONE E - SUD-OUEST','ZONE C - Grand-EST']\n",
        "active_zones_df = merged_telcom[merged_telcom['ZONENAME'].isin(active_zones)]                      "
      ],
      "execution_count": 26,
      "outputs": []
    },
    {
      "cell_type": "code",
      "metadata": {
        "id": "CL9MeCTdHa1V"
      },
      "source": [
        "#Usage per region\n",
        "merged_telcom[\"REGION\"].value_counts()\n",
        "active_regions = ['LAGUNE', 'LACS', 'BAS SASSANDRA', 'HAUT SASSANDRA',\n",
        "                  'VALLE DU BANDAMA', 'SUD BANDAMA', 'SAVANE']\n",
        "active_regions_df = merged_telcom[merged_telcom['REGION'].isin(active_regions)]            "
      ],
      "execution_count": 27,
      "outputs": []
    },
    {
      "cell_type": "code",
      "metadata": {
        "id": "03ea2209J9xV"
      },
      "source": [
        "#Usage per AREA\n",
        "merged_telcom[\"AREA\"].value_counts()\n",
        "active_areas = ['ABIDJAN NORTH', 'ABIDJAN_SOUTH', 'CENTRE NORTH',\n",
        "                'NORTH WEST', 'SOUTH WEST']\n",
        "active_areas_df = merged_telcom[merged_telcom[\"AREA\"].isin(active_areas)]                \n"
      ],
      "execution_count": 28,
      "outputs": []
    },
    {
      "cell_type": "code",
      "metadata": {
        "colab": {
          "base_uri": "https://localhost:8080/"
        },
        "id": "fWg46rXNIy18",
        "outputId": "86d275d2-1abe-4988-8968-71c4764becd6"
      },
      "source": [
        "#Most active Cities based on regions, zones, areas\n",
        "cities_zones = active_zones_df['VILLES'].value_counts() \n",
        "cities_regions = active_regions_df['VILLES'].value_counts()\n",
        "cities_areas = active_areas_df['VILLES'].value_counts()\n",
        "\n",
        "active_cities_zones = cities_zones[cities_zones > 1000]\n",
        "active_cities_regions = cities_regions[cities_region > 1000]\n",
        "active_cities_areas = cities_areas[cities_areas > 1000]\n",
        "\n",
        "active_cities_regions"
      ],
      "execution_count": 67,
      "outputs": [
        {
          "output_type": "execute_result",
          "data": {
            "text/plain": [
              "YOPOUGON        8432\n",
              "ABOBO           6159\n",
              "COCODY          3704\n",
              "ADJAME          2505\n",
              "KOUMASSI        2275\n",
              "MARCORY         2087\n",
              "YAMOUSSOUKRO    2076\n",
              "TREICHVILLE     2026\n",
              "DALOA           1747\n",
              "ATTECOUBE       1634\n",
              "PORT-BOUET      1423\n",
              "SAN-PEDRO       1291\n",
              "Name: VILLES, dtype: int64"
            ]
          },
          "metadata": {
            "tags": []
          },
          "execution_count": 67
        }
      ]
    },
    {
      "cell_type": "code",
      "metadata": {
        "colab": {
          "base_uri": "https://localhost:8080/"
        },
        "id": "25IuL6bFGQOh",
        "outputId": "eb59d10f-76b0-4314-de4e-1e9ad4e6cbaa"
      },
      "source": [
        "#Most used product\n",
        "merged_telcom[\"PRODUCT\"].value_counts()"
      ],
      "execution_count": 14,
      "outputs": [
        {
          "output_type": "execute_result",
          "data": {
            "text/plain": [
              "sms      28691\n",
              "Voice    21011\n",
              "Name: PRODUCT, dtype: int64"
            ]
          },
          "metadata": {
            "tags": []
          },
          "execution_count": 14
        }
      ]
    },
    {
      "cell_type": "code",
      "metadata": {
        "colab": {
          "base_uri": "https://localhost:8080/"
        },
        "id": "jlH4AvO6GjDN",
        "outputId": "9a297e51-22be-4374-c8a5-f91088dae303"
      },
      "source": [
        "#Most profitable product\n",
        "merged_telcom.groupby([\"PRODUCT\"])[\"VALUE\"].sum()"
      ],
      "execution_count": 55,
      "outputs": [
        {
          "output_type": "execute_result",
          "data": {
            "text/plain": [
              "PRODUCT\n",
              "Voice    1160087\n",
              "sms       228609\n",
              "Name: VALUE, dtype: int64"
            ]
          },
          "metadata": {
            "tags": []
          },
          "execution_count": 55
        }
      ]
    }
  ]
}